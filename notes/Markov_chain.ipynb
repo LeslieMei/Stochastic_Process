{
 "cells": [
  {
   "cell_type": "markdown",
   "metadata": {},
   "source": [
    "# 马尔可夫链\n",
    "## 马尔可夫链相关定义和性质\n",
    "### 马尔科夫链定义\n",
    "如果$\\{X_n\\}$是状态离散的随机过程，并且具有Markov性，即对任何$k\\ge1$，任何状态$i_0,\\cdots,i_{k-1},i,j$，有\n",
    "$$\n",
    "P\\{X_{k+1} = j | X_0 = i_0, \\cdots,X_k = i\\} = p\\{X_{k+1} = j|X_k = i\\}\n",
    "$$\n",
    "则称$\\{X_N\\}$是Markov Chain."
   ]
  },
  {
   "cell_type": "markdown",
   "metadata": {},
   "source": [
    "#### 性质\n",
    "$P(X_n = j| X_m =i) == p_{ij}(m,n)$，表示在m时刻处于状态i的条件下，到n时刻转移到状态j的转移概率。\n",
    "\n",
    "$p_{ij}(m,n) \\ge 0, \\sum_{j \\in I} P_{ij}(m,n) = 1$"
   ]
  },
  {
   "cell_type": "markdown",
   "metadata": {},
   "source": [
    "#### 转移矩阵\n",
    "\n",
    "记$P(m,m+n) = {(p_{ij}(m,m+n))}_{I\\times I}$为对应的n步转移矩阵（I为状态空间）。\n",
    "\n",
    "**转移矩阵各元素非负，每行之和为1**"
   ]
  },
  {
   "cell_type": "markdown",
   "metadata": {},
   "source": [
    "#### 时齐的Markov链\n",
    "\n",
    "如果对于任何状态i、j，$P(X_{n+1} = j|X_n = i)$不要依赖于n，则称$\\{X_n\\}$是时齐的Markov链"
   ]
  },
  {
   "cell_type": "code",
   "execution_count": null,
   "metadata": {},
   "outputs": [],
   "source": []
  }
 ],
 "metadata": {
  "kernelspec": {
   "display_name": "Python 3",
   "language": "python",
   "name": "python3"
  },
  "language_info": {
   "codemirror_mode": {
    "name": "ipython",
    "version": 3
   },
   "file_extension": ".py",
   "mimetype": "text/x-python",
   "name": "python",
   "nbconvert_exporter": "python",
   "pygments_lexer": "ipython3",
   "version": "3.8.5"
  }
 },
 "nbformat": 4,
 "nbformat_minor": 4
}
