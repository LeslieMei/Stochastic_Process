{
 "cells": [
  {
   "cell_type": "markdown",
   "metadata": {},
   "source": [
    "# 马尔可夫链\n",
    "## 马尔可夫链相关定义和性质\n",
    "### 马尔科夫链定义\n",
    "如果$\\{X_n\\}$是状态离散的随机过程，并且具有Markov性，即对任何$k\\ge1$，任何状态$i_0,\\cdots,i_{k-1},i,j$，有\n",
    "$$\n",
    "P\\{X_{k+1} = j | X_0 = i_0, \\cdots,X_k = i\\} = p\\{X_{k+1} = j|X_k = i\\}\n",
    "$$\n",
    "则称$\\{X_N\\}$是Markov Chain."
   ]
  },
  {
   "cell_type": "markdown",
   "metadata": {},
   "source": [
    "#### 性质\n",
    "$P(X_n = j| X_m =i) == p_{ij}(m,n)$，表示在m时刻处于状态i的条件下，到n时刻转移到状态j的转移概率。\n",
    "\n",
    "$p_{ij}(m,n) \\ge 0, \\sum_{j \\in I} P_{ij}(m,n) = 1$"
   ]
  },
  {
   "cell_type": "markdown",
   "metadata": {},
   "source": [
    "#### 转移矩阵\n",
    "\n",
    "记$P(m,m+n) = {(p_{ij}(m,m+n))}_{I\\times I}$为对应的n步转移矩阵（I为状态空间）。\n",
    "\n",
    "**转移矩阵各元素非负，每行之和为1**"
   ]
  },
  {
   "cell_type": "markdown",
   "metadata": {},
   "source": [
    "#### 时齐的Markov链\n",
    "\n",
    "如果对于任何状态i、j，$P(X_{n+1} = j|X_n = i)$不要依赖于n，则称$\\{X_n\\}$是时齐的Markov链"
   ]
  },
  {
   "cell_type": "markdown",
   "metadata": {},
   "source": [
    "## 有限维分布\n",
    "### C-K方程\n",
    "$$\n",
    "p_{ij}(s,s+u+v) = \\sum_k p_{ik}(s,s+u)p_{kj}(s+u,s+u+v)\n",
    "$$\n",
    "> 证明利用全概率公式和马氏性\n",
    "#### 矩阵形式\n",
    "$$\n",
    "P(s,s+u+v) = P(s,s+u)P(s+u,s+u+v)\n",
    "$$\n",
    "以后均假设$\\{X_n\\}$是时间齐次的Markov链，由C-K方程可知$P(n,n+m) = P^m$不依赖于n\n",
    "\n",
    "记$P^{(m)} = P(n,n+m)$为m步转移矩阵\n",
    "\n",
    "记$P_{ij}^{(m)} = P_{ij}(n,n+m)$为从i到j的m步转移矩阵\n",
    "\n",
    "#### 性质\n",
    "+ 对于任何$n \\ge 1$， $P(X_n = j) = \\sum_i P(X_0 = i)p_{ij}^{(n)}$\n",
    "+ 对于任何$n_1 < n_2 <\\cdots<n_k$，$P(X_{n_1} = i_1, \\cdots, X_{n_k} = i_k) = P(X_{n_1} = i_1)p_{{i_1}{i_2}}^{(n_2-n_1)}\\cdots p_{{i_{k-1}}{i_k}}^{(n_k-n_{k-1})}$"
   ]
  },
  {
   "cell_type": "markdown",
   "metadata": {},
   "source": [
    "## 常反和暂留\n",
    "### 定义\n",
    "$\\tau = min\\{n \\ge 1:X_n = i\\} $ i的首中时（约定$\\emptyset = \\infty$）\n",
    "\n",
    "常返：$P(\\tau_i < \\infty|X_0 = i) = 1$\n",
    "\n",
    "暂留：$P(\\tau_i < \\infty|X_o = i ) < 1$\n",
    "\n",
    ">常返：从i出发以概率1在有限时间内能返回\n",
    "\n",
    ">暂留：从i出发以正概率不再返回状态i\n",
    "\n",
    "若i常返，定义$\\mu_i = E(\\tau_i|X_0 = i)$为i的平均回转时\n",
    "\n",
    "正常返：$\\mu_i < \\infty$；零常返：$\\mu_i = \\infty$"
   ]
  },
  {
   "cell_type": "markdown",
   "metadata": {},
   "source": []
  }
 ],
 "metadata": {
  "kernelspec": {
   "display_name": "Python 3",
   "language": "python",
   "name": "python3"
  },
  "language_info": {
   "codemirror_mode": {
    "name": "ipython",
    "version": 3
   },
   "file_extension": ".py",
   "mimetype": "text/x-python",
   "name": "python",
   "nbconvert_exporter": "python",
   "pygments_lexer": "ipython3",
   "version": "3.8.5"
  }
 },
 "nbformat": 4,
 "nbformat_minor": 4
}
