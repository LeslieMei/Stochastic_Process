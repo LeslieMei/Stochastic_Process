{
 "metadata": {
  "language_info": {
   "codemirror_mode": {
    "name": "ipython",
    "version": 3
   },
   "file_extension": ".py",
   "mimetype": "text/x-python",
   "name": "python",
   "nbconvert_exporter": "python",
   "pygments_lexer": "ipython3",
   "version": "3.8.5-final"
  },
  "orig_nbformat": 2,
  "kernelspec": {
   "name": "python3",
   "display_name": "Python 3.8.5 64-bit (conda)",
   "metadata": {
    "interpreter": {
     "hash": "2e4f81fba288859cc7a5b5bb6d54b8908d45d2b3d383a5bbf5218860d6f2e544"
    }
   }
  }
 },
 "nbformat": 4,
 "nbformat_minor": 2,
 "cells": [
  {
   "source": [
    "\n",
    "# 随机过程基本概念\n",
    "\n",
    "## 定义和示例\n",
    "    \n",
    "### 定义\n",
    "\n",
    "设$(\\Omega, \\mathcal{F}, \\mathbb{P})$是概率空间，$(E, \\varepsilon)$是可测空间，$T$是指标集。\n",
    "如果对任意$t \\in T$， $X_t$是$(\\Omega, \\mathcal{F})$到$(E, \\varepsilon)$上的可测映射，\n",
    "则称$X = {X_t: t \\in T}$是$(\\Omega, \\mathcal{F}, \\mathbb{P})$上的以$E$为状态空间的随机过程。\n",
    "即：$$ X_t(\\omega): T \\times \\Omega \\to E$$\n",
    "如果固定$t$, 则$X_t(\\cdot)$是随机变量；\n",
    "\n",
    "如果固定$\\omega$, $X_\\cdot(\\omega)$称为随机过程的样本轨道。\n",
    "\n",
    "注：同一随机过程的不同时间并不独立。"
   ],
   "cell_type": "markdown",
   "metadata": {}
  },
  {
   "source": [
    "### 分类\n",
    "\n",
    "- 离散时间离散状态\n",
    "- 离散时间连续状态\n",
    "- 连续时间离散状态\n",
    "- 连续时间连续状态\n",
    "\n",
    "注：考虑事件空间$\\mathcal{F}$和状态空间$E$的情况。\n"
   ],
   "cell_type": "markdown",
   "metadata": {}
  },
  {
   "source": [
    "### 常见随机过程\n",
    "\n",
    "- 二项过程\n",
    "- 随机相位余弦波"
   ],
   "cell_type": "markdown",
   "metadata": {}
  },
  {
   "source": [
    "## 随机过程的有限维分布\n",
    "\n",
    "### 定义\n",
    "\n",
    "设随机过程${X_t, t \\in T}$，对每一个固定的$t \\in T$，随机变量$X(t)$的分布函数与$t$有关，记为$F_t(x) = P\\{X(t) \\leqslant x\\}$，$x \\in R$， 称为${X_t, t \\in T}$的一维分布函数， $\\{F_t(x), t \\in T\\}$称为一维分布函数族。\n",
    "\n",
    "对任意n个时刻， $t_1, t_2,\\cdots，t_n \\in T$，n维随机变量$(X(t_1),X(t_2),\\cdots，X(t_n))$的分布函数记为：\n",
    "$$\n",
    "F_{t_1, t_2,\\cdots，t_n}(X(t_1),X(t_2),\\cdots，X(t_n)) = P\\{X(t_1) \\leqslant x_1,X(t_2) \\leqslant x_2 ,\\cdots，X(t_n) \\leqslant x_n\\}, x_i \\in R, i = 1,2,\\cdots，n\n",
    "$$\n",
    "\n",
    "其被称为${X(t), t \\in R}$的n维分布函数,\n",
    "\n",
    "$\\{F_{t_1, t_2,\\cdots，t_n}(x_1, x_2, \\cdots, x_n)\\; t_1, t_2,\\cdots，t_n \\in T\\}$称为n维分布函数族。\n",
    "\n",
    "有限维分布函数族完全确定了随机过程的统计特性，其满足：\n",
    "- 横向相容\n",
    "\n",
    ">对$(1,2,\\cdots,n)$的任何置换$\\tau$,\n",
    ">$$F_{t_\\tau(1),\\cdots,t_\\tau(n)}(x_\\tau(1),\\cdots,x-\\tau(n)) = F_{t_1,\\cdots,t_n}(x_1,\\cdots,x_n)$$\n",
    "\n",
    "- 纵向相容\n",
    "\n",
    ">$$\\lim_{x_{n+1} \\to \\infty}(x_1,\\cdots,x_n,x_{n+1}) = F_{t_1,\\cdots,t_n}(x_1,\\cdots,x_2)$$\n",
    "\n",
    "注：（Kolmogorov）对任何的分布函数族满足纵向相容和横向相容，那么一定存在一个概率空间及其上的随机变量，满足上述性质。"
   ],
   "cell_type": "markdown",
   "metadata": {}
  },
  {
   "source": [
    "## 均值函数与协方差函数\n",
    "\n",
    "给定一个随机过程$\\{X(t),t \\in T\\}$，记\n",
    "\n",
    "均值函数:\n",
    "\n",
    "$$\n",
    "\\mu_X(t) = E[X(t)]\n",
    "$$\n",
    "\n",
    "\n",
    "\n",
    "均方值函数:\n",
    "\n",
    "$$\n",
    "\\psi_X^2 = E[X^2(t)]\n",
    "$$\n",
    "\n",
    "\n",
    "\n",
    "\n",
    "方差函数:\n",
    "\n",
    "$$\n",
    "\\sigma_X^2(t) = D_X(t) = D[X(t)]\n",
    "$$\n",
    "\n",
    "\n",
    "\n",
    "标准差函数:\n",
    "\n",
    "$$\n",
    "\\sigma_X(t) = \\sqrt{\\sigma_X^2(t)}\n",
    "$$\n",
    "\n",
    "\n",
    "自相关函数：\n",
    "\n",
    "$$\n",
    "r_X(t_1,t_2) = E[X(t_1)X(t_2)]\n",
    "$$\n",
    "\n",
    "协方差函数：\n",
    "\n",
    "$$\n",
    "C_X(t_1,t_2) = Cov[X(t_1),X(t_2)] = E\\{[X(t_1)-\\mu_X(t_1)][X(t_2)-\\mu_X(t_2)]\\}\n",
    "$$"
   ],
   "cell_type": "markdown",
   "metadata": {}
  },
  {
   "source": [
    "### 数字特征之间的关系\n",
    "\n",
    "$$\\psi_X^2(t) = r_X(t,t)$$\n",
    "$$C_X(t_1,t_2) = r_X(t_1,t_2) - \\mu_X(t_1)\\mu_X(t_2)$$\n",
    "$$\\sigma_X^2(t) = C_X(t,t) = r_X(t,t) - \\mu^2_X(t)$$"
   ],
   "cell_type": "markdown",
   "metadata": {}
  },
  {
   "source": [
    "### 二阶矩过程\n",
    "对于随机过程${X(t), t \\in T}$， 如果对于每一个$t \\in T$， $E[X^2(t)$都存在，则称$X(t)$是二阶矩过程。\n",
    "\n",
    "二阶矩过程的均值函数和自相关函数总是存在的。"
   ],
   "cell_type": "markdown",
   "metadata": {}
  },
  {
   "source": [
    "## 两个随机过程之间的关系\n",
    "\n",
    "### 独立性\n",
    "设$\\{X_t; t \\in T_1\\}$和$\\{Y_s; s \\in T_2\\}$都是概率空间$(\\Omega, \\mathcal{F}, \\mathbb{P}）$上的随机过程。如果对任意的$m,n \\ge 1, t_1,\\cdots,t_m \\in T_1$和$s_1,\\cdots,s_n \\in T_2$, 都有$({X_t}_1,\\cdots,{X_t}_m)$和$({Y_s}_1,\\cdots,{Y_s}_n)$相互独立，则称$\\{X_t; t \\in T_1\\}$和${Y_s; s \\in T_2}$相互独立。\n",
    "\n",
    "互相关函数：\n",
    "\n",
    "$$\n",
    "r_{XY}(t,s) = E[X(t)Y(s)]\n",
    "$$\n",
    "\n",
    "互协方差函数：\n",
    "\n",
    "$$\n",
    "C_{XY}(t,s) = Cov(X_t, Y_s) = r_{XY}(t,s) - \\mu_X(t)\\mu_Y(s)\n",
    "$$\n",
    "\n",
    "如果对于任意的$t \\in T_1$和$s \\in T_2$,恒有$C_{XY}(t,s) = 0$，则称随机过程$X(t)$和$Y(S)$是不相关的。"
   ],
   "cell_type": "markdown",
   "metadata": {}
  },
  {
   "source": [
    "## 随机过程的分类\n",
    "\n",
    "白噪声：\n",
    "\n",
    "\n",
    "正态过程（高斯过程）：\n",
    "\n",
    "\n",
    "宽平稳过程：\n",
    "\n",
    "\n",
    "严平稳过程：\n",
    "\n",
    "\n"
   ],
   "cell_type": "markdown",
   "metadata": {}
  }
 ]
}