{
 "metadata": {
  "language_info": {
   "codemirror_mode": {
    "name": "ipython",
    "version": 3
   },
   "file_extension": ".py",
   "mimetype": "text/x-python",
   "name": "python",
   "nbconvert_exporter": "python",
   "pygments_lexer": "ipython3",
   "version": "3.8.5-final"
  },
  "orig_nbformat": 2,
  "kernelspec": {
   "name": "python3",
   "display_name": "Python 3.8.5 64-bit (conda)",
   "metadata": {
    "interpreter": {
     "hash": "2e4f81fba288859cc7a5b5bb6d54b8908d45d2b3d383a5bbf5218860d6f2e544"
    }
   }
  }
 },
 "nbformat": 4,
 "nbformat_minor": 2,
 "cells": [
  {
   "source": [
    "# 随机过程基本概念\n",
    "\n",
    "## 定义和示例\n",
    "    \n",
    "### 定义\n",
    "\n",
    "设$(\\Omega, \\mathcal{F}, \\mathbb{P})$是概率空间，$(E, \\varepsilon)$是可测空间，$T$是指标集。\n",
    "如果对任意$t \\in T$， $X_t$是$(\\Omega, \\mathcal{F})$到$(E, \\varepsilon)$上的可测映射，\n",
    "则称$X = {X_t: t \\in T}$是$(\\Omega, \\mathcal{F}, \\mathbb{P})$上的以$E$为状态空间的随机过程。\n",
    "即：$$ X_t(\\omega): T \\times \\Omega \\to E$$\n",
    "如果固定$t$, 则$X_t(·)$是随机变量；\n",
    "\n",
    "如果固定$\\omega$, $X_·(\\omega)$称为随机过程的样本轨道。\n",
    "\n",
    "注：同一随机过程的不同时间并不独立。"
   ],
   "cell_type": "markdown",
   "metadata": {}
  },
  {
   "source": [
    "### 分类\n",
    "\n",
    "- 离散时间离散状态\n",
    "- 离散时间连续状态\n",
    "- 连续时间离散状态\n",
    "- 连续时间连续状态\n",
    "\n",
    "注：考虑事件空间$\\mathcal{F}$和状态空间$E$的情况。\n"
   ],
   "cell_type": "markdown",
   "metadata": {}
  },
  {
   "source": [
    "### 常见随机过程\n",
    "\n",
    "- 二项过程\n",
    "- 随机相位余弦波"
   ],
   "cell_type": "markdown",
   "metadata": {}
  },
  {
   "source": [
    "## 随机过程的有限维分布\n",
    "\n",
    "### 定义\n",
    "\n",
    "设随机过程${X_t, t \\in T}$，对每一个固定的$t \\in T$，随机变量$X(t)$的分布函数与$t$有关，记为$F_t(x) = P\\{X(t) \\leqslant x\\}$，$x \\in R$， 称为${X_t, t \\in T}$的一维分布函数， $\\{F_t(x), t \\in T\\}$称为一维分布函数族。\n",
    "\n",
    "对任意n个时刻， $t_1, t_2,···，t_n \\in T$，n维随机变量$(X(t_1),X(t_2),···，X(t_n))$的分布函数记为：\n",
    "$$\n",
    "F_{t_1, t_2,···，t_n}(X(t_1),X(t_2),···，X(t_n)) = P\\{X(t_1) \\leqslant x_1,X(t_2) \\leqslant x_2 ,···，X(t_n) \\leqslant x_n\\}, x_i \\in R, i = 1,2,···，n\n",
    "$$\n",
    "\n",
    "其被称为${X(t), t \\in R}$的n维分布函数,\n",
    "\n",
    "$\\{F_{t_1, t_2,···，t_n}(x_1, x_2, ···, x_n)\\; t_1, t_2,···，t_n \\in T\\}$称为n维分布函数族。\n",
    "\n",
    "有限维分布函数族完全确定了随机过程的统计特性，其满足：\n",
    "- 横向相容\n",
    "- 纵向相容"
   ],
   "cell_type": "markdown",
   "metadata": {}
  }
 ]
}